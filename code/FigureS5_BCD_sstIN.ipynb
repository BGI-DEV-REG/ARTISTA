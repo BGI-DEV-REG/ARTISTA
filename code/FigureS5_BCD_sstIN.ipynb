{
 "cells": [
  {
   "cell_type": "code",
   "execution_count": 1,
   "metadata": {},
   "outputs": [],
   "source": [
    "import numpy as np\n",
    "import pandas as pd\n",
    "import scanpy as sc\n",
    "import matplotlib.pyplot as plt\n",
    "import seaborn as sns\n",
    "import cv2\n",
    "from scipy.stats import ks_2samp\n",
    "from scipy.spatial import cKDTree\n",
    "from scipy.interpolate import make_interp_spline\n",
    "from sklearn.neighbors import KernelDensity\n",
    "import math\n",
    "import os"
   ]
  },
  {
   "cell_type": "code",
   "execution_count": 2,
   "metadata": {},
   "outputs": [],
   "source": [
    "outdir = 'FigureS5_BCD'\n",
    "if not os.path.exists(outdir):\n",
    "    os.mkdir(outdir)"
   ]
  },
  {
   "cell_type": "markdown",
   "metadata": {},
   "source": [
    "## FigureS5_B"
   ]
  },
  {
   "cell_type": "code",
   "execution_count": 3,
   "metadata": {},
   "outputs": [
    {
     "data": {
      "text/plain": [
       "AnnData object with n_obs × n_vars = 8243 × 22144\n",
       "    obs: 'CellID', 'Batch', 'Annotation', 'cell_id', 'Annotation_0305', 'spatial_leiden'\n",
       "    var: 'Gene'\n",
       "    uns: 'Batch1_Adult_telencephalon_rep2_DP8400015234BLA3_1', 'angle_dict'\n",
       "    obsm: 'spatial'\n",
       "    layers: 'counts'"
      ]
     },
     "execution_count": 3,
     "metadata": {},
     "output_type": "execute_result"
    }
   ],
   "source": [
    "obj = sc.read('Adult.h5ad')\n",
    "df = pd.read_csv('Adult_telencephalon_rep2_DP8400015234BLA3_1_SCT_Removed.meta_0305.csv', index_col=0)\n",
    "obj.obs['spatial_leiden'] = df['spatial_leiden']  # brain region annotation\n",
    "obj"
   ]
  },
  {
   "cell_type": "code",
   "execution_count": 4,
   "metadata": {},
   "outputs": [
    {
     "data": {
      "text/html": [
       "<div>\n",
       "<style scoped>\n",
       "    .dataframe tbody tr th:only-of-type {\n",
       "        vertical-align: middle;\n",
       "    }\n",
       "\n",
       "    .dataframe tbody tr th {\n",
       "        vertical-align: top;\n",
       "    }\n",
       "\n",
       "    .dataframe thead th {\n",
       "        text-align: right;\n",
       "    }\n",
       "</style>\n",
       "<table border=\"1\" class=\"dataframe\">\n",
       "  <thead>\n",
       "    <tr style=\"text-align: right;\">\n",
       "      <th></th>\n",
       "      <th>x</th>\n",
       "      <th>y</th>\n",
       "      <th>MIDCounts</th>\n",
       "      <th>geneID</th>\n",
       "    </tr>\n",
       "  </thead>\n",
       "  <tbody>\n",
       "    <tr>\n",
       "      <th>454</th>\n",
       "      <td>2314</td>\n",
       "      <td>13</td>\n",
       "      <td>1</td>\n",
       "      <td>AMEX60DD003175</td>\n",
       "    </tr>\n",
       "    <tr>\n",
       "      <th>455</th>\n",
       "      <td>2360</td>\n",
       "      <td>21</td>\n",
       "      <td>1</td>\n",
       "      <td>AMEX60DD003175</td>\n",
       "    </tr>\n",
       "    <tr>\n",
       "      <th>456</th>\n",
       "      <td>2384</td>\n",
       "      <td>4</td>\n",
       "      <td>1</td>\n",
       "      <td>AMEX60DD003175</td>\n",
       "    </tr>\n",
       "    <tr>\n",
       "      <th>457</th>\n",
       "      <td>2493</td>\n",
       "      <td>35</td>\n",
       "      <td>1</td>\n",
       "      <td>AMEX60DD003175</td>\n",
       "    </tr>\n",
       "    <tr>\n",
       "      <th>458</th>\n",
       "      <td>2561</td>\n",
       "      <td>30</td>\n",
       "      <td>1</td>\n",
       "      <td>AMEX60DD003175</td>\n",
       "    </tr>\n",
       "    <tr>\n",
       "      <th>...</th>\n",
       "      <td>...</td>\n",
       "      <td>...</td>\n",
       "      <td>...</td>\n",
       "      <td>...</td>\n",
       "    </tr>\n",
       "    <tr>\n",
       "      <th>42376743</th>\n",
       "      <td>2435</td>\n",
       "      <td>6071</td>\n",
       "      <td>3</td>\n",
       "      <td>AMEX60DD003175</td>\n",
       "    </tr>\n",
       "    <tr>\n",
       "      <th>42376744</th>\n",
       "      <td>2578</td>\n",
       "      <td>6059</td>\n",
       "      <td>2</td>\n",
       "      <td>AMEX60DD003175</td>\n",
       "    </tr>\n",
       "    <tr>\n",
       "      <th>42376745</th>\n",
       "      <td>2723</td>\n",
       "      <td>6075</td>\n",
       "      <td>1</td>\n",
       "      <td>AMEX60DD003175</td>\n",
       "    </tr>\n",
       "    <tr>\n",
       "      <th>42376746</th>\n",
       "      <td>2834</td>\n",
       "      <td>6066</td>\n",
       "      <td>5</td>\n",
       "      <td>AMEX60DD003175</td>\n",
       "    </tr>\n",
       "    <tr>\n",
       "      <th>42376747</th>\n",
       "      <td>2935</td>\n",
       "      <td>6066</td>\n",
       "      <td>3</td>\n",
       "      <td>AMEX60DD003175</td>\n",
       "    </tr>\n",
       "  </tbody>\n",
       "</table>\n",
       "<p>44632 rows × 4 columns</p>\n",
       "</div>"
      ],
      "text/plain": [
       "             x     y  MIDCounts          geneID\n",
       "454       2314    13          1  AMEX60DD003175\n",
       "455       2360    21          1  AMEX60DD003175\n",
       "456       2384     4          1  AMEX60DD003175\n",
       "457       2493    35          1  AMEX60DD003175\n",
       "458       2561    30          1  AMEX60DD003175\n",
       "...        ...   ...        ...             ...\n",
       "42376743  2435  6071          3  AMEX60DD003175\n",
       "42376744  2578  6059          2  AMEX60DD003175\n",
       "42376745  2723  6075          1  AMEX60DD003175\n",
       "42376746  2834  6066          5  AMEX60DD003175\n",
       "42376747  2935  6066          3  AMEX60DD003175\n",
       "\n",
       "[44632 rows x 4 columns]"
      ]
     },
     "execution_count": 4,
     "metadata": {},
     "output_type": "execute_result"
    }
   ],
   "source": [
    "df = pd.read_csv('bin1_matrix/Adult.gem.gz', sep='\\t', comment='#')\n",
    "m, n = df['x'].min(), df['y'].min()\n",
    "a, b = df['x'].max()-m, df['y'].max()-n\n",
    "df = df.loc[df['geneID']=='AMEX60DD003175', :]\n",
    "df['x'] -= m\n",
    "df['y'] -= n\n",
    "df"
   ]
  },
  {
   "cell_type": "code",
   "execution_count": 5,
   "metadata": {},
   "outputs": [],
   "source": [
    "def get_area(x):\n",
    "    id_ = x['cell_id']\n",
    "    area = (obj.uns['Batch1_Adult_telencephalon_rep2_DP8400015234BLA3_1']['seg_cell']==id_).sum()\n",
    "    return area"
   ]
  },
  {
   "cell_type": "code",
   "execution_count": 6,
   "metadata": {},
   "outputs": [
    {
     "name": "stdout",
     "output_type": "stream",
     "text": [
      "Wall time: 7min 3s\n"
     ]
    }
   ],
   "source": [
    "%%time\n",
    "obj.obs.loc[:, 'area'] = obj.obs.apply(get_area, axis=1)"
   ]
  },
  {
   "cell_type": "code",
   "execution_count": 7,
   "metadata": {},
   "outputs": [],
   "source": [
    "obj.obs.loc[:, 'r'] = (obj.obs['area']/np.pi)**0.5"
   ]
  },
  {
   "cell_type": "code",
   "execution_count": 8,
   "metadata": {},
   "outputs": [],
   "source": [
    "def get_cell_center(obj):\n",
    "    obj = obj.copy()\n",
    "    coor = pd.DataFrame(obj.uns['Batch1_Adult_telencephalon_rep2_DP8400015234BLA3_1']['seg_cell'].flatten(), columns=['cell'])\n",
    "    coor = coor[coor['cell'] > 0]\n",
    "    coor[['x', 'y']] = np.argwhere(obj.uns['Batch1_Adult_telencephalon_rep2_DP8400015234BLA3_1']['seg_cell'] > 0)\n",
    "    obj.obsm['cell_center'] = coor.groupby('cell').mean().values\n",
    "    return obj"
   ]
  },
  {
   "cell_type": "code",
   "execution_count": 9,
   "metadata": {},
   "outputs": [],
   "source": [
    "obj = get_cell_center(obj)"
   ]
  },
  {
   "cell_type": "code",
   "execution_count": 10,
   "metadata": {},
   "outputs": [],
   "source": [
    "sub_obj = obj[(obj.obs['Annotation']=='sstIN'),:]"
   ]
  },
  {
   "cell_type": "code",
   "execution_count": 11,
   "metadata": {},
   "outputs": [],
   "source": [
    "coor = sub_obj.obsm['cell_center']\n",
    "point_tree = cKDTree(coor)"
   ]
  },
  {
   "cell_type": "code",
   "execution_count": 12,
   "metadata": {},
   "outputs": [],
   "source": [
    "def get_r(x):\n",
    "    d, _ = point_tree.query((x['x'], x['y']), k=1)\n",
    "    return d"
   ]
  },
  {
   "cell_type": "code",
   "execution_count": 13,
   "metadata": {},
   "outputs": [
    {
     "data": {
      "text/html": [
       "<div>\n",
       "<style scoped>\n",
       "    .dataframe tbody tr th:only-of-type {\n",
       "        vertical-align: middle;\n",
       "    }\n",
       "\n",
       "    .dataframe tbody tr th {\n",
       "        vertical-align: top;\n",
       "    }\n",
       "\n",
       "    .dataframe thead th {\n",
       "        text-align: right;\n",
       "    }\n",
       "</style>\n",
       "<table border=\"1\" class=\"dataframe\">\n",
       "  <thead>\n",
       "    <tr style=\"text-align: right;\">\n",
       "      <th></th>\n",
       "      <th>x</th>\n",
       "      <th>y</th>\n",
       "      <th>MIDCounts</th>\n",
       "      <th>geneID</th>\n",
       "      <th>r</th>\n",
       "    </tr>\n",
       "  </thead>\n",
       "  <tbody>\n",
       "    <tr>\n",
       "      <th>454</th>\n",
       "      <td>2314</td>\n",
       "      <td>13</td>\n",
       "      <td>1</td>\n",
       "      <td>AMEX60DD003175</td>\n",
       "      <td>1303.972029</td>\n",
       "    </tr>\n",
       "    <tr>\n",
       "      <th>455</th>\n",
       "      <td>2360</td>\n",
       "      <td>21</td>\n",
       "      <td>1</td>\n",
       "      <td>AMEX60DD003175</td>\n",
       "      <td>1286.186080</td>\n",
       "    </tr>\n",
       "    <tr>\n",
       "      <th>456</th>\n",
       "      <td>2384</td>\n",
       "      <td>4</td>\n",
       "      <td>1</td>\n",
       "      <td>AMEX60DD003175</td>\n",
       "      <td>1298.307458</td>\n",
       "    </tr>\n",
       "    <tr>\n",
       "      <th>457</th>\n",
       "      <td>2493</td>\n",
       "      <td>35</td>\n",
       "      <td>1</td>\n",
       "      <td>AMEX60DD003175</td>\n",
       "      <td>1236.520524</td>\n",
       "    </tr>\n",
       "    <tr>\n",
       "      <th>458</th>\n",
       "      <td>2561</td>\n",
       "      <td>30</td>\n",
       "      <td>1</td>\n",
       "      <td>AMEX60DD003175</td>\n",
       "      <td>1214.493574</td>\n",
       "    </tr>\n",
       "  </tbody>\n",
       "</table>\n",
       "</div>"
      ],
      "text/plain": [
       "        x   y  MIDCounts          geneID            r\n",
       "454  2314  13          1  AMEX60DD003175  1303.972029\n",
       "455  2360  21          1  AMEX60DD003175  1286.186080\n",
       "456  2384   4          1  AMEX60DD003175  1298.307458\n",
       "457  2493  35          1  AMEX60DD003175  1236.520524\n",
       "458  2561  30          1  AMEX60DD003175  1214.493574"
      ]
     },
     "execution_count": 13,
     "metadata": {},
     "output_type": "execute_result"
    }
   ],
   "source": [
    "df.loc[:, 'r'] = df.apply(get_r, axis=1)\n",
    "df.head()"
   ]
  },
  {
   "cell_type": "code",
   "execution_count": 14,
   "metadata": {},
   "outputs": [],
   "source": [
    "def get_means(df, m=50,nbins=50):\n",
    "    r0 = df['r']/2\n",
    "    d0 = df['MIDCounts']/(2*np.pi*r0)\n",
    "    bins = np.linspace(0, m/2, nbins)\n",
    "    digitized = np.digitize(r0, bins)\n",
    "    bin_means = np.array([d0[digitized == i].sum()/((bins[1]-bins[0])*sub_obj.n_obs) for i in range(1, len(bins))])\n",
    "    bin_means[np.isnan(bin_means)] = 0\n",
    "    # note: \n",
    "    x_smooth = np.linspace(bins[:-1].min(), bins[:-1].max(), 300)\n",
    "    y_smooth = make_interp_spline(bins[:-1], bin_means)(x_smooth)\n",
    "    \n",
    "    return bin_means, [x_smooth, y_smooth]"
   ]
  },
  {
   "cell_type": "code",
   "execution_count": 15,
   "metadata": {},
   "outputs": [
    {
     "name": "stdout",
     "output_type": "stream",
     "text": [
      "mean r: 7.282304557683422\n"
     ]
    },
    {
     "data": {
      "image/png": "[encoded data removed]",
      "text/plain": [
       "<Figure size 864x720 with 1 Axes>"
      ]
     },
     "metadata": {
      "needs_background": "light"
     },
     "output_type": "display_data"
    }
   ],
   "source": [
    "sst_means, sst_smooth = get_means(df, m=50, nbins=20)\n",
    "plt.figure(figsize=(12,10))\n",
    "x_smooth = sst_smooth[0]\n",
    "y_smooth = sst_smooth[1]\n",
    "plt.plot(x_smooth, y_smooth, linewidth=5, color='green')\n",
    "plt.vlines(sub_obj.obs['r'].mean()/2, ymin=0,ymax=y_smooth.max(), color='orange', linestyle='--', linewidth=5)\n",
    "plt.title('sstIN')\n",
    "plt.savefig(os.path.join(outdir, 'sstIN_distribution.pdf'))\n",
    "print('mean r:', sub_obj.obs['r'].mean()/2)"
   ]
  },
  {
   "cell_type": "markdown",
   "metadata": {},
   "source": [
    "## FigureS5_C"
   ]
  },
  {
   "cell_type": "code",
   "execution_count": 16,
   "metadata": {},
   "outputs": [],
   "source": [
    "from matplotlib.patches import FancyBboxPatch\n",
    "from matplotlib.path import get_path_collection_extents\n",
    "from scipy.stats import ks_2samp"
   ]
  },
  {
   "cell_type": "code",
   "execution_count": 17,
   "metadata": {},
   "outputs": [],
   "source": [
    "def box_ax(ax):\n",
    "    new_patches = []\n",
    "    for patch in reversed(ax.artists):\n",
    "        bb = patch.get_path().get_extents()\n",
    "        color = patch.get_facecolor()\n",
    "        patch.set_edgecolor(color)\n",
    "    return ax"
   ]
  },
  {
   "cell_type": "code",
   "execution_count": 18,
   "metadata": {},
   "outputs": [],
   "source": [
    "def plot_nebor_sig(gene, gene_name, y1, y2, sig1, sig2,colors, h=0.2, obj=obj, k=5, **kwargs):\n",
    "    data = obj[:, gene].to_df()\n",
    "    data['Celltype'] = obj.obs['Annotation']\n",
    "    data['A'] = 'other'\n",
    "    data.loc[data['Celltype']=='sstIN', 'A'] = 'sstIN'\n",
    "    point_tree2 = cKDTree(obj.obsm['cell_center'])\n",
    "    neighbours = []\n",
    "    coor = obj.obsm['cell_center']\n",
    "    \n",
    "    for spot, spot_coor in zip(obj.obs_names, coor):\n",
    "        if data.loc[spot, 'A'] == 'sstIN':\n",
    "            _, n_index = point_tree2.query(spot_coor, k=k*3)\n",
    "            count = 0\n",
    "            for i in data.index[n_index[1:]]:\n",
    "                if data.loc[i, 'A'] != 'sstIN':\n",
    "                    count += 1\n",
    "                    data.loc[i, 'A'] = 'Neighbours'\n",
    "                    if count >= k:\n",
    "                        break\n",
    "    labels = [\"sstIN\",\"Neighbours\",\"MP others\"]\n",
    "    my_type = pd.CategoricalDtype(\n",
    "      categories=labels,\n",
    "      ordered=True\n",
    "    )\n",
    "    data['A'] = data['A'].astype(my_type)\n",
    "    # plt.figure(figsize=(8, 12))\n",
    "    fig, ax = plt.subplots(figsize=(8, 12))\n",
    "    for i in range(len(labels)):\n",
    "        kwargs['boxprops']['facecolor'] = colors[i]\n",
    "        kwargs['boxprops']['color'] = colors[i]\n",
    "        plt.boxplot(data[gene][data['A']==labels[i]], labels=[labels[i]],positions=[i], **kwargs)\n",
    "    print(ks_2samp(data.loc[data['A']=='Neighbours', gene], data.loc[data['A']=='sstIN', gene]))\n",
    "    print(ks_2samp(data.loc[data['A']=='Neighbours', gene], data.loc[data['A']=='MP others', gene]))\n",
    "    x1, x2 = 0 , 1\n",
    "    y= y1\n",
    "    ax.plot([x1, x1, x2, x2], [y, y+h, y+h, y], lw=1.5, c=\"k\")\n",
    "    ax.text((x1+x2)*.5, y+h, sig1, ha='center', va='bottom', color=\"k\", fontsize=15)\n",
    "\n",
    "    x1, x2 = 1 , 2\n",
    "    y= y2\n",
    "    ax.plot([x1, x1, x2, x2], [y, y+h, y+h, y], lw=1.5, c=\"k\")\n",
    "    ax.text((x1+x2)*.5, y+h, sig2, ha='center', va='bottom', color=\"k\", fontsize=15)\n",
    "    # ax = box_ax(ax)\n",
    "    sns.despine(left=True)\n",
    "    plt.title(f'{gene_name} {gene}')\n",
    "    plt.ylabel('Expression')"
   ]
  },
  {
   "cell_type": "code",
   "execution_count": 19,
   "metadata": {},
   "outputs": [],
   "source": [
    "mp_obj = obj[obj.obs['spatial_leiden']==3, :]"
   ]
  },
  {
   "cell_type": "code",
   "execution_count": 20,
   "metadata": {},
   "outputs": [
    {
     "name": "stdout",
     "output_type": "stream",
     "text": [
      "KstestResult(statistic=0.9440786832597351, pvalue=9.992007221626409e-16)\n",
      "KstestResult(statistic=0.29378037944911933, pvalue=2.55351295663786e-15)\n"
     ]
    },
    {
     "data": {
      "image/png": "[encoded data removed]",
      "text/plain": [
       "<Figure size 576x864 with 1 Axes>"
      ]
     },
     "metadata": {
      "needs_background": "light"
     },
     "output_type": "display_data"
    }
   ],
   "source": [
    "kw = dict(\n",
    "    notch = False,sym = 'o',\n",
    "    patch_artist = True,\n",
    "    boxprops = {'linewidth':3},\n",
    "    flierprops = {'marker':'o', 'color':'black', 'linewidth':.1},\n",
    "    medianprops = {'linestyle':'-', 'color':'black', 'linewidth':3},\n",
    "    whiskerprops = {'linestyle':'--'},\n",
    "    capprops = {'linewidth':2.5},\n",
    "    widths=.5,\n",
    ")\n",
    "plot_nebor_sig('AMEX60DD003175', 'SST', 7.5, 6.5, '***', '***',h=0.1, obj=mp_obj,colors=['#63FFAC', '#ff63ac', '#888888'], **kw)\n",
    "sns.despine(trim=True, left=True)\n",
    "plt.savefig(os.path.join(outdir, 'sstIN_SST.pdf'))"
   ]
  },
  {
   "cell_type": "code",
   "execution_count": 21,
   "metadata": {},
   "outputs": [
    {
     "name": "stdout",
     "output_type": "stream",
     "text": [
      "KstestResult(statistic=0.42356483340024087, pvalue=1.006750238730092e-11)\n",
      "KstestResult(statistic=0.07298907646474677, pvalue=0.23863521944324417)\n"
     ]
    },
    {
     "data": {
      "image/png": "[encoded data removed]",
      "text/plain": [
       "<Figure size 576x864 with 1 Axes>"
      ]
     },
     "metadata": {
      "needs_background": "light"
     },
     "output_type": "display_data"
    }
   ],
   "source": [
    "kw = dict(\n",
    "    notch = False,sym = 'o',\n",
    "    patch_artist = True,\n",
    "    boxprops = {'linewidth':3},\n",
    "    flierprops = {'marker':'o', 'color':'black', 'linewidth':.1},\n",
    "    medianprops = {'linestyle':'-', 'color':'black', 'linewidth':3},\n",
    "    whiskerprops = {'linestyle':'--'},\n",
    "    capprops = {'linewidth':2.5},\n",
    "    widths=.5,\n",
    ")\n",
    "plot_nebor_sig('AMEX60DD021875', 'GAD2', 4.5, 4.0, '***', 'ns', h=0.1, obj=mp_obj,colors=['#63FFAC', '#ff63ac', '#888888'], **kw)\n",
    "sns.despine(trim=True, left=True)\n",
    "plt.savefig(os.path.join(outdir, 'sstIN_GAD2.pdf'))"
   ]
  },
  {
   "cell_type": "markdown",
   "metadata": {},
   "source": [
    "## FigureS5_D"
   ]
  },
  {
   "cell_type": "code",
   "execution_count": 22,
   "metadata": {},
   "outputs": [],
   "source": [
    "def get_data(data,center,h,H):\n",
    "    expr = (data['x']>=center[0]-h/2) & (data['x']<center[0]+h/2) & (data['y']>=center[1]-h/2) & (data['y']<center[1]+h/2)\n",
    "    data = data[expr]\n",
    "    data['x'] -= center[0]-H//2\n",
    "    data['y'] -= center[1]-H//2\n",
    "    return data"
   ]
  },
  {
   "cell_type": "code",
   "execution_count": 23,
   "metadata": {},
   "outputs": [],
   "source": [
    "def get_c(npy,obj,h,H=50*2):\n",
    "    contours = []\n",
    "    contours_sst = []\n",
    "    for id_ in np.unique(npy):\n",
    "        if id_ < 1:\n",
    "            continue\n",
    "        arr = np.zeros_like(npy, dtype=np.uint8)\n",
    "        arr[npy==id_] = 255\n",
    "        contours_, hierarchy = cv2.findContours(arr,cv2.RETR_EXTERNAL,cv2.CHAIN_APPROX_TC89_L1)\n",
    "        c = contours_[0] - np.array([(h-H)//2, (h-H)//2]) # [[[i[0][0]-(h-H)//2,i[0][1]-(h-H)//2]] for i in contours_[0]]\n",
    "        contours.append(c)\n",
    "        # print(id_)\n",
    "        if id_ in obj.obs['cell_id'].tolist():\n",
    "            contours_sst.append(c)\n",
    "    return contours, contours_sst"
   ]
  },
  {
   "cell_type": "code",
   "execution_count": 25,
   "metadata": {},
   "outputs": [],
   "source": [
    "def kde(df, gene=None, gene_name=None, l=[5,10,15,20], t=99.99,h=50*2, \n",
    "        kernel='tophat',name=None,fg=None):\n",
    "    if gene:\n",
    "        cbs = df.loc[df['geneID']==gene, :]\n",
    "    else:\n",
    "        cbs = df.copy()\n",
    "    for i in l:\n",
    "        kde = KernelDensity(kernel=kernel, \n",
    "                        bandwidth=i).fit(X=cbs[['x', 'y']], \n",
    "                                          sample_weight=cbs['MIDCounts'])\n",
    "        xx, yy = np.mgrid[0:h, 0:h]\n",
    "        log_d = kde.score_samples(np.vstack([xx.ravel(), yy.ravel()]).T)    \n",
    "        m = np.exp(log_d.reshape(xx.shape))\n",
    "        n = m.copy()\n",
    "        if t < 100:\n",
    "            m = np.clip(m, m.min(), np.percentile(m, t))\n",
    "        m -= m.min()\n",
    "        m /= m.max()\n",
    "        m = (m*255).astype(np.uint8)\n",
    "        mm = cv2.applyColorMap(m, cv2.COLORMAP_JET)\n",
    "        if fg is not None:\n",
    "            mm = np.insert(mm, 3, 255, 2)\n",
    "            mm[fg[:,:,3]==255] = fg[fg[:,:,3]==255]\n",
    "#         plt.figure()\n",
    "#         plt.imshow(mm)\n",
    "        cv2.imwrite(os.path.join(outdir,f'{name}_{kernel}_mm{i}_{gene_name}_{gene}.png'), mm)"
   ]
  },
  {
   "cell_type": "code",
   "execution_count": 26,
   "metadata": {
    "collapsed": true
   },
   "outputs": [
    {
     "name": "stderr",
     "output_type": "stream",
     "text": [
      "C:\\Users\\WANGSH~1\\AppData\\Local\\Temp/ipykernel_25984/3265364252.py:4: SettingWithCopyWarning: \n",
      "A value is trying to be set on a copy of a slice from a DataFrame.\n",
      "Try using .loc[row_indexer,col_indexer] = value instead\n",
      "\n",
      "See the caveats in the documentation: https://pandas.pydata.org/pandas-docs/stable/user_guide/indexing.html#returning-a-view-versus-a-copy\n",
      "  data['x'] -= center[0]-H//2\n",
      "C:\\Users\\WANGSH~1\\AppData\\Local\\Temp/ipykernel_25984/3265364252.py:5: SettingWithCopyWarning: \n",
      "A value is trying to be set on a copy of a slice from a DataFrame.\n",
      "Try using .loc[row_indexer,col_indexer] = value instead\n",
      "\n",
      "See the caveats in the documentation: https://pandas.pydata.org/pandas-docs/stable/user_guide/indexing.html#returning-a-view-versus-a-copy\n",
      "  data['y'] -= center[1]-H//2\n",
      "C:\\Users\\WANGSH~1\\AppData\\Local\\Temp/ipykernel_25984/3265364252.py:4: SettingWithCopyWarning: \n",
      "A value is trying to be set on a copy of a slice from a DataFrame.\n",
      "Try using .loc[row_indexer,col_indexer] = value instead\n",
      "\n",
      "See the caveats in the documentation: https://pandas.pydata.org/pandas-docs/stable/user_guide/indexing.html#returning-a-view-versus-a-copy\n",
      "  data['x'] -= center[0]-H//2\n",
      "C:\\Users\\WANGSH~1\\AppData\\Local\\Temp/ipykernel_25984/3265364252.py:5: SettingWithCopyWarning: \n",
      "A value is trying to be set on a copy of a slice from a DataFrame.\n",
      "Try using .loc[row_indexer,col_indexer] = value instead\n",
      "\n",
      "See the caveats in the documentation: https://pandas.pydata.org/pandas-docs/stable/user_guide/indexing.html#returning-a-view-versus-a-copy\n",
      "  data['y'] -= center[1]-H//2\n",
      "C:\\Users\\WANGSH~1\\AppData\\Local\\Temp/ipykernel_25984/3265364252.py:4: SettingWithCopyWarning: \n",
      "A value is trying to be set on a copy of a slice from a DataFrame.\n",
      "Try using .loc[row_indexer,col_indexer] = value instead\n",
      "\n",
      "See the caveats in the documentation: https://pandas.pydata.org/pandas-docs/stable/user_guide/indexing.html#returning-a-view-versus-a-copy\n",
      "  data['x'] -= center[0]-H//2\n",
      "C:\\Users\\WANGSH~1\\AppData\\Local\\Temp/ipykernel_25984/3265364252.py:5: SettingWithCopyWarning: \n",
      "A value is trying to be set on a copy of a slice from a DataFrame.\n",
      "Try using .loc[row_indexer,col_indexer] = value instead\n",
      "\n",
      "See the caveats in the documentation: https://pandas.pydata.org/pandas-docs/stable/user_guide/indexing.html#returning-a-view-versus-a-copy\n",
      "  data['y'] -= center[1]-H//2\n",
      "C:\\Users\\WANGSH~1\\AppData\\Local\\Temp/ipykernel_25984/3265364252.py:4: SettingWithCopyWarning: \n",
      "A value is trying to be set on a copy of a slice from a DataFrame.\n",
      "Try using .loc[row_indexer,col_indexer] = value instead\n",
      "\n",
      "See the caveats in the documentation: https://pandas.pydata.org/pandas-docs/stable/user_guide/indexing.html#returning-a-view-versus-a-copy\n",
      "  data['x'] -= center[0]-H//2\n",
      "C:\\Users\\WANGSH~1\\AppData\\Local\\Temp/ipykernel_25984/3265364252.py:5: SettingWithCopyWarning: \n",
      "A value is trying to be set on a copy of a slice from a DataFrame.\n",
      "Try using .loc[row_indexer,col_indexer] = value instead\n",
      "\n",
      "See the caveats in the documentation: https://pandas.pydata.org/pandas-docs/stable/user_guide/indexing.html#returning-a-view-versus-a-copy\n",
      "  data['y'] -= center[1]-H//2\n",
      "C:\\Users\\WANGSH~1\\AppData\\Local\\Temp/ipykernel_25984/3265364252.py:4: SettingWithCopyWarning: \n",
      "A value is trying to be set on a copy of a slice from a DataFrame.\n",
      "Try using .loc[row_indexer,col_indexer] = value instead\n",
      "\n",
      "See the caveats in the documentation: https://pandas.pydata.org/pandas-docs/stable/user_guide/indexing.html#returning-a-view-versus-a-copy\n",
      "  data['x'] -= center[0]-H//2\n",
      "C:\\Users\\WANGSH~1\\AppData\\Local\\Temp/ipykernel_25984/3265364252.py:5: SettingWithCopyWarning: \n",
      "A value is trying to be set on a copy of a slice from a DataFrame.\n",
      "Try using .loc[row_indexer,col_indexer] = value instead\n",
      "\n",
      "See the caveats in the documentation: https://pandas.pydata.org/pandas-docs/stable/user_guide/indexing.html#returning-a-view-versus-a-copy\n",
      "  data['y'] -= center[1]-H//2\n",
      "C:\\Users\\WANGSH~1\\AppData\\Local\\Temp/ipykernel_25984/3265364252.py:4: SettingWithCopyWarning: \n",
      "A value is trying to be set on a copy of a slice from a DataFrame.\n",
      "Try using .loc[row_indexer,col_indexer] = value instead\n",
      "\n",
      "See the caveats in the documentation: https://pandas.pydata.org/pandas-docs/stable/user_guide/indexing.html#returning-a-view-versus-a-copy\n",
      "  data['x'] -= center[0]-H//2\n",
      "C:\\Users\\WANGSH~1\\AppData\\Local\\Temp/ipykernel_25984/3265364252.py:5: SettingWithCopyWarning: \n",
      "A value is trying to be set on a copy of a slice from a DataFrame.\n",
      "Try using .loc[row_indexer,col_indexer] = value instead\n",
      "\n",
      "See the caveats in the documentation: https://pandas.pydata.org/pandas-docs/stable/user_guide/indexing.html#returning-a-view-versus-a-copy\n",
      "  data['y'] -= center[1]-H//2\n",
      "C:\\Users\\WANGSH~1\\AppData\\Local\\Temp/ipykernel_25984/3265364252.py:4: SettingWithCopyWarning: \n",
      "A value is trying to be set on a copy of a slice from a DataFrame.\n",
      "Try using .loc[row_indexer,col_indexer] = value instead\n",
      "\n",
      "See the caveats in the documentation: https://pandas.pydata.org/pandas-docs/stable/user_guide/indexing.html#returning-a-view-versus-a-copy\n",
      "  data['x'] -= center[0]-H//2\n",
      "C:\\Users\\WANGSH~1\\AppData\\Local\\Temp/ipykernel_25984/3265364252.py:5: SettingWithCopyWarning: \n",
      "A value is trying to be set on a copy of a slice from a DataFrame.\n",
      "Try using .loc[row_indexer,col_indexer] = value instead\n",
      "\n",
      "See the caveats in the documentation: https://pandas.pydata.org/pandas-docs/stable/user_guide/indexing.html#returning-a-view-versus-a-copy\n",
      "  data['y'] -= center[1]-H//2\n"
     ]
    }
   ],
   "source": [
    "cells = [1761, 5498, 5959, 7464, 558, 9931, 10389]\n",
    "centers = [[1541, 2174],\n",
    "           [2662, 4105],\n",
    "           [2805, 2506],\n",
    "           [3286, 4403],\n",
    "           [1098, 2380],\n",
    "           [4096, 3786],\n",
    "           [4336, 4025]]\n",
    "h=85*2\n",
    "H=80*2\n",
    "for cell_id, center in zip(cells, centers):\n",
    "    data = get_data(df, center, h,H)\n",
    "    npy = sub_obj.uns['Batch1_Adult_telencephalon_rep2_DP8400015234BLA3_1']['seg_cell'][center[0]-h//2:center[0]+h//2, center[1]-h//2:center[1]+h//2]\n",
    "    contours,contours_sst  = get_c(npy,sub_obj, h,H)\n",
    "    arr =  np.zeros((H, H, 4), dtype=np.uint8)\n",
    "    arr = cv2.drawContours(arr,contours,-1,(255,255,255,255), 2)\n",
    "    arr = cv2.drawContours(arr,contours_sst,-1,(239,110,255, 255), 2)\n",
    "\n",
    "    kde(data, gene='AMEX60DD003175', gene_name='sst', name=f'adult_{cell_id}', l=[5],\n",
    "       kernel='gaussian', t=99.98, h=H, fg=arr)"
   ]
  },
  {
   "cell_type": "code",
   "execution_count": null,
   "metadata": {},
   "outputs": [],
   "source": []
  }
 ],
 "metadata": {
  "kernelspec": {
   "display_name": "RYSpatial",
   "language": "python",
   "name": "ryspatial"
  },
  "language_info": {
   "codemirror_mode": {
    "name": "ipython",
    "version": 3
   },
   "file_extension": ".py",
   "mimetype": "text/x-python",
   "name": "python",
   "nbconvert_exporter": "python",
   "pygments_lexer": "ipython3",
   "version": "3.8.11"
  }
 },
 "nbformat": 4,
 "nbformat_minor": 4
}
